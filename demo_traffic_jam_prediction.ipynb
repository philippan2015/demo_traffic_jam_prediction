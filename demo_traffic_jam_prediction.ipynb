{
  "nbformat": 4,
  "nbformat_minor": 0,
  "metadata": {
    "colab": {
      "name": "“Untitled0.ipynb”的副本",
      "version": "0.3.2",
      "provenance": [],
      "include_colab_link": true
    },
    "kernelspec": {
      "name": "python3",
      "display_name": "Python 3"
    },
    "accelerator": "TPU"
  },
  "cells": [
    {
      "cell_type": "markdown",
      "metadata": {
        "id": "view-in-github",
        "colab_type": "text"
      },
      "source": [
        "<a href=\"https://colab.research.google.com/github/philippan2015/demo_traffic_jam_prediction/blob/master/demo_traffic_jam_prediction.ipynb\" target=\"_parent\"><img src=\"https://colab.research.google.com/assets/colab-badge.svg\" alt=\"Open In Colab\"/></a>"
      ]
    },
    {
      "metadata": {
        "id": "2aTRIGnlNM0B",
        "colab_type": "code",
        "colab": {}
      },
      "cell_type": "code",
      "source": [
        "import pandas as pd"
      ],
      "execution_count": 0,
      "outputs": []
    },
    {
      "metadata": {
        "id": "ycDPmczws0k6",
        "colab_type": "code",
        "colab": {}
      },
      "cell_type": "code",
      "source": [
        ""
      ],
      "execution_count": 0,
      "outputs": []
    },
    {
      "metadata": {
        "id": "aMqFdWGpN9d2",
        "colab_type": "code",
        "colab": {}
      },
      "cell_type": "code",
      "source": [
        "import pickle"
      ],
      "execution_count": 0,
      "outputs": []
    },
    {
      "metadata": {
        "id": "xWQvdU_YN_Ag",
        "colab_type": "code",
        "outputId": "aeec0600-6998-4559-e4f7-a33b2ff2df35",
        "colab": {
          "base_uri": "https://localhost:8080/",
          "height": 118
        }
      },
      "cell_type": "code",
      "source": [
        "!git clone https://github.com/wshuyi/demo_traffic_jam_prediction.git"
      ],
      "execution_count": 0,
      "outputs": [
        {
          "output_type": "stream",
          "text": [
            "Cloning into 'demo_traffic_jam_prediction'...\n",
            "remote: Enumerating objects: 9, done.\u001b[K\n",
            "remote: Counting objects: 100% (9/9), done.\u001b[K\n",
            "remote: Compressing objects: 100% (7/7), done.\u001b[K\n",
            "remote: Total 9 (delta 1), reused 5 (delta 0), pack-reused 0\u001b[K\n",
            "Unpacking objects: 100% (9/9), done.\n"
          ],
          "name": "stdout"
        }
      ]
    },
    {
      "metadata": {
        "id": "-8SuZg4mOPXT",
        "colab_type": "code",
        "colab": {}
      },
      "cell_type": "code",
      "source": [
        "from pathlib import Path\n",
        "data_dir = Path('demo_traffic_jam_prediction')"
      ],
      "execution_count": 0,
      "outputs": []
    },
    {
      "metadata": {
        "id": "_TYSbE-vhUjD",
        "colab_type": "code",
        "colab": {}
      },
      "cell_type": "code",
      "source": [
        "with open(data_dir / 'data.pickle', 'rb') as f:\n",
        "    [event_dict, df] = pickle.load(f)"
      ],
      "execution_count": 0,
      "outputs": []
    },
    {
      "metadata": {
        "id": "cZM02_iEimp4",
        "colab_type": "code",
        "outputId": "c081415f-3b83-4d71-8661-f2b348fa8ad5",
        "colab": {
          "base_uri": "https://localhost:8080/",
          "height": 554
        }
      },
      "cell_type": "code",
      "source": [
        "event_dict"
      ],
      "execution_count": 8,
      "outputs": [
        {
          "output_type": "execute_result",
          "data": {
            "text/plain": [
              "{1: 'road closed due to construction',\n",
              " 2: 'traffic jam',\n",
              " 3: 'stopped car on the shoulder',\n",
              " 4: 'road closed',\n",
              " 5: 'other',\n",
              " 6: 'object on roadway',\n",
              " 7: 'major event',\n",
              " 8: 'pothole',\n",
              " 9: 'traffic heavier than normal',\n",
              " 10: 'road construction',\n",
              " 11: 'fog',\n",
              " 12: 'accident',\n",
              " 13: 'slowdown',\n",
              " 14: 'stopped car',\n",
              " 15: 'small traffic jam',\n",
              " 16: 'stopped traffic',\n",
              " 17: 'heavy traffic',\n",
              " 18: 'minor accident',\n",
              " 19: 'medium traffic jam',\n",
              " 20: 'malfunctioning traffic light',\n",
              " 21: 'missing sign on the shoulder',\n",
              " 22: 'animal on the shoulder',\n",
              " 23: 'animal struck',\n",
              " 24: 'large traffic jam',\n",
              " 25: 'hazard on the shoulder',\n",
              " 26: 'hazard on road',\n",
              " 27: 'ice on roadway',\n",
              " 28: 'weather hazard',\n",
              " 29: 'flooding',\n",
              " 30: 'road closed due to hazard',\n",
              " 31: 'hail',\n",
              " 32: 'huge traffic jam'}"
            ]
          },
          "metadata": {
            "tags": []
          },
          "execution_count": 8
        }
      ]
    },
    {
      "metadata": {
        "id": "a4U2R1Tliy5c",
        "colab_type": "code",
        "outputId": "b612cbe3-8821-4674-8f68-963037b1056c",
        "colab": {
          "base_uri": "https://localhost:8080/",
          "height": 343
        }
      },
      "cell_type": "code",
      "source": [
        "df.head(10)"
      ],
      "execution_count": 9,
      "outputs": [
        {
          "output_type": "execute_result",
          "data": {
            "text/html": [
              "<div>\n",
              "<style scoped>\n",
              "    .dataframe tbody tr th:only-of-type {\n",
              "        vertical-align: middle;\n",
              "    }\n",
              "\n",
              "    .dataframe tbody tr th {\n",
              "        vertical-align: top;\n",
              "    }\n",
              "\n",
              "    .dataframe thead th {\n",
              "        text-align: right;\n",
              "    }\n",
              "</style>\n",
              "<table border=\"1\" class=\"dataframe\">\n",
              "  <thead>\n",
              "    <tr style=\"text-align: right;\">\n",
              "      <th></th>\n",
              "      <th>label</th>\n",
              "      <th>events</th>\n",
              "    </tr>\n",
              "  </thead>\n",
              "  <tbody>\n",
              "    <tr>\n",
              "      <th>0</th>\n",
              "      <td>1</td>\n",
              "      <td>[traffic heavier than normal, heavy traffic, m...</td>\n",
              "    </tr>\n",
              "    <tr>\n",
              "      <th>1</th>\n",
              "      <td>1</td>\n",
              "      <td>[traffic jam, road construction, stopped car o...</td>\n",
              "    </tr>\n",
              "    <tr>\n",
              "      <th>2</th>\n",
              "      <td>1</td>\n",
              "      <td>[traffic jam]</td>\n",
              "    </tr>\n",
              "    <tr>\n",
              "      <th>3</th>\n",
              "      <td>1</td>\n",
              "      <td>[traffic jam]</td>\n",
              "    </tr>\n",
              "    <tr>\n",
              "      <th>4</th>\n",
              "      <td>1</td>\n",
              "      <td>[traffic jam, traffic jam, traffic jam, traffi...</td>\n",
              "    </tr>\n",
              "    <tr>\n",
              "      <th>5</th>\n",
              "      <td>1</td>\n",
              "      <td>[stopped car on the shoulder, traffic jam, hea...</td>\n",
              "    </tr>\n",
              "    <tr>\n",
              "      <th>6</th>\n",
              "      <td>1</td>\n",
              "      <td>[stopped car on the shoulder, traffic jam, hea...</td>\n",
              "    </tr>\n",
              "    <tr>\n",
              "      <th>7</th>\n",
              "      <td>1</td>\n",
              "      <td>[traffic jam, small traffic jam, traffic jam, ...</td>\n",
              "    </tr>\n",
              "    <tr>\n",
              "      <th>8</th>\n",
              "      <td>1</td>\n",
              "      <td>[heavy traffic, traffic jam, traffic jam, stop...</td>\n",
              "    </tr>\n",
              "    <tr>\n",
              "      <th>9</th>\n",
              "      <td>1</td>\n",
              "      <td>[heavy traffic, traffic jam, traffic jam, stop...</td>\n",
              "    </tr>\n",
              "  </tbody>\n",
              "</table>\n",
              "</div>"
            ],
            "text/plain": [
              "   label                                             events\n",
              "0      1  [traffic heavier than normal, heavy traffic, m...\n",
              "1      1  [traffic jam, road construction, stopped car o...\n",
              "2      1                                      [traffic jam]\n",
              "3      1                                      [traffic jam]\n",
              "4      1  [traffic jam, traffic jam, traffic jam, traffi...\n",
              "5      1  [stopped car on the shoulder, traffic jam, hea...\n",
              "6      1  [stopped car on the shoulder, traffic jam, hea...\n",
              "7      1  [traffic jam, small traffic jam, traffic jam, ...\n",
              "8      1  [heavy traffic, traffic jam, traffic jam, stop...\n",
              "9      1  [heavy traffic, traffic jam, traffic jam, stop..."
            ]
          },
          "metadata": {
            "tags": []
          },
          "execution_count": 9
        }
      ]
    },
    {
      "metadata": {
        "id": "Yc7qSzFci49f",
        "colab_type": "code",
        "outputId": "875924e8-db46-48de-a4aa-35548d2d813c",
        "colab": {
          "base_uri": "https://localhost:8080/",
          "height": 343
        }
      },
      "cell_type": "code",
      "source": [
        "df.tail(10)"
      ],
      "execution_count": 0,
      "outputs": [
        {
          "output_type": "execute_result",
          "data": {
            "text/html": [
              "<div>\n",
              "<style scoped>\n",
              "    .dataframe tbody tr th:only-of-type {\n",
              "        vertical-align: middle;\n",
              "    }\n",
              "\n",
              "    .dataframe tbody tr th {\n",
              "        vertical-align: top;\n",
              "    }\n",
              "\n",
              "    .dataframe thead th {\n",
              "        text-align: right;\n",
              "    }\n",
              "</style>\n",
              "<table border=\"1\" class=\"dataframe\">\n",
              "  <thead>\n",
              "    <tr style=\"text-align: right;\">\n",
              "      <th></th>\n",
              "      <th>label</th>\n",
              "      <th>events</th>\n",
              "    </tr>\n",
              "  </thead>\n",
              "  <tbody>\n",
              "    <tr>\n",
              "      <th>851</th>\n",
              "      <td>0</td>\n",
              "      <td>[traffic jam, traffic jam, traffic jam]</td>\n",
              "    </tr>\n",
              "    <tr>\n",
              "      <th>852</th>\n",
              "      <td>0</td>\n",
              "      <td>[stopped traffic, traffic jam, stopped traffic]</td>\n",
              "    </tr>\n",
              "    <tr>\n",
              "      <th>853</th>\n",
              "      <td>0</td>\n",
              "      <td>[stopped car on the shoulder, stopped traffic,...</td>\n",
              "    </tr>\n",
              "    <tr>\n",
              "      <th>854</th>\n",
              "      <td>0</td>\n",
              "      <td>[stopped traffic]</td>\n",
              "    </tr>\n",
              "    <tr>\n",
              "      <th>855</th>\n",
              "      <td>0</td>\n",
              "      <td>[stopped car on the shoulder, stopped car on t...</td>\n",
              "    </tr>\n",
              "    <tr>\n",
              "      <th>856</th>\n",
              "      <td>0</td>\n",
              "      <td>[heavy traffic, heavy traffic, heavy traffic, ...</td>\n",
              "    </tr>\n",
              "    <tr>\n",
              "      <th>857</th>\n",
              "      <td>0</td>\n",
              "      <td>[traffic jam, traffic jam]</td>\n",
              "    </tr>\n",
              "    <tr>\n",
              "      <th>858</th>\n",
              "      <td>0</td>\n",
              "      <td>[traffic jam, traffic jam, traffic heavier tha...</td>\n",
              "    </tr>\n",
              "    <tr>\n",
              "      <th>859</th>\n",
              "      <td>0</td>\n",
              "      <td>[heavy traffic, stopped car on the shoulder, t...</td>\n",
              "    </tr>\n",
              "    <tr>\n",
              "      <th>860</th>\n",
              "      <td>0</td>\n",
              "      <td>[heavy traffic, stopped car on the shoulder, s...</td>\n",
              "    </tr>\n",
              "  </tbody>\n",
              "</table>\n",
              "</div>"
            ],
            "text/plain": [
              "     label                                             events\n",
              "851      0            [traffic jam, traffic jam, traffic jam]\n",
              "852      0    [stopped traffic, traffic jam, stopped traffic]\n",
              "853      0  [stopped car on the shoulder, stopped traffic,...\n",
              "854      0                                  [stopped traffic]\n",
              "855      0  [stopped car on the shoulder, stopped car on t...\n",
              "856      0  [heavy traffic, heavy traffic, heavy traffic, ...\n",
              "857      0                         [traffic jam, traffic jam]\n",
              "858      0  [traffic jam, traffic jam, traffic heavier tha...\n",
              "859      0  [heavy traffic, stopped car on the shoulder, t...\n",
              "860      0  [heavy traffic, stopped car on the shoulder, s..."
            ]
          },
          "metadata": {
            "tags": []
          },
          "execution_count": 10
        }
      ]
    },
    {
      "metadata": {
        "id": "XiXRXIQXtEYf",
        "colab_type": "code",
        "colab": {
          "base_uri": "https://localhost:8080/",
          "height": 34
        },
        "outputId": "c57ee347-d9b4-417e-9081-b0b88e09caea"
      },
      "cell_type": "code",
      "source": [
        "max_len_event_id = df.events.apply(len).idxmax()\n",
        "max_len_event_id"
      ],
      "execution_count": 10,
      "outputs": [
        {
          "output_type": "execute_result",
          "data": {
            "text/plain": [
              "105"
            ]
          },
          "metadata": {
            "tags": []
          },
          "execution_count": 10
        }
      ]
    },
    {
      "metadata": {
        "id": "fmZX_dXAtaZT",
        "colab_type": "code",
        "colab": {
          "base_uri": "https://localhost:8080/",
          "height": 1428
        },
        "outputId": "fe920f46-3a88-4135-8ed7-e77fdddd8a58"
      },
      "cell_type": "code",
      "source": [
        "max_len_event = df.iloc[max_len_event_id]\n",
        "max_len_event.events"
      ],
      "execution_count": 11,
      "outputs": [
        {
          "output_type": "execute_result",
          "data": {
            "text/plain": [
              "['stopped car on the shoulder',\n",
              " 'heavy traffic',\n",
              " 'heavy traffic',\n",
              " 'heavy traffic',\n",
              " 'slowdown',\n",
              " 'stopped traffic',\n",
              " 'heavy traffic',\n",
              " 'heavy traffic',\n",
              " 'heavy traffic',\n",
              " 'heavy traffic',\n",
              " 'traffic heavier than normal',\n",
              " 'stopped car on the shoulder',\n",
              " 'traffic jam',\n",
              " 'heavy traffic',\n",
              " 'stopped traffic',\n",
              " 'stopped traffic',\n",
              " 'stopped traffic',\n",
              " 'heavy traffic',\n",
              " 'traffic jam',\n",
              " 'stopped car on the shoulder',\n",
              " 'stopped traffic',\n",
              " 'stopped traffic',\n",
              " 'stopped traffic',\n",
              " 'heavy traffic',\n",
              " 'traffic heavier than normal',\n",
              " 'traffic heavier than normal',\n",
              " 'traffic heavier than normal',\n",
              " 'traffic heavier than normal',\n",
              " 'heavy traffic',\n",
              " 'stopped traffic',\n",
              " 'traffic heavier than normal',\n",
              " 'pothole',\n",
              " 'stopped car on the shoulder',\n",
              " 'traffic jam',\n",
              " 'slowdown',\n",
              " 'stopped traffic',\n",
              " 'heavy traffic',\n",
              " 'traffic heavier than normal',\n",
              " 'traffic jam',\n",
              " 'traffic jam',\n",
              " 'stopped car on the shoulder',\n",
              " 'major event',\n",
              " 'traffic jam',\n",
              " 'traffic jam',\n",
              " 'stopped traffic',\n",
              " 'heavy traffic',\n",
              " 'traffic heavier than normal',\n",
              " 'stopped car on the shoulder',\n",
              " 'slowdown',\n",
              " 'heavy traffic',\n",
              " 'heavy traffic',\n",
              " 'stopped car on the shoulder',\n",
              " 'traffic jam',\n",
              " 'slowdown',\n",
              " 'slowdown',\n",
              " 'heavy traffic',\n",
              " 'stopped car on the shoulder',\n",
              " 'heavy traffic',\n",
              " 'minor accident',\n",
              " 'stopped car on the shoulder',\n",
              " 'heavy traffic',\n",
              " 'stopped car on the shoulder',\n",
              " 'heavy traffic',\n",
              " 'stopped traffic',\n",
              " 'heavy traffic',\n",
              " 'traffic heavier than normal',\n",
              " 'heavy traffic',\n",
              " 'stopped car on the shoulder',\n",
              " 'traffic heavier than normal',\n",
              " 'stopped traffic',\n",
              " 'heavy traffic',\n",
              " 'heavy traffic',\n",
              " 'heavy traffic',\n",
              " 'stopped car on the shoulder',\n",
              " 'slowdown',\n",
              " 'stopped traffic',\n",
              " 'heavy traffic',\n",
              " 'stopped car on the shoulder',\n",
              " 'traffic heavier than normal',\n",
              " 'heavy traffic',\n",
              " 'minor accident',\n",
              " 'major event',\n",
              " 'stopped car on the shoulder',\n",
              " 'stopped car on the shoulder']"
            ]
          },
          "metadata": {
            "tags": []
          },
          "execution_count": 11
        }
      ]
    },
    {
      "metadata": {
        "id": "bd05OJ_htkp_",
        "colab_type": "code",
        "colab": {
          "base_uri": "https://localhost:8080/",
          "height": 34
        },
        "outputId": "3db94c3c-4c0c-4cc1-d215-be98d787d318"
      },
      "cell_type": "code",
      "source": [
        "maxlen = len(max_len_event.events)\n",
        "maxlen"
      ],
      "execution_count": 12,
      "outputs": [
        {
          "output_type": "execute_result",
          "data": {
            "text/plain": [
              "84"
            ]
          },
          "metadata": {
            "tags": []
          },
          "execution_count": 12
        }
      ]
    },
    {
      "metadata": {
        "id": "MT35Ezi7tqCo",
        "colab_type": "code",
        "colab": {}
      },
      "cell_type": "code",
      "source": [
        "reversed_dict = {}\n",
        "for k, v in event_dict.items():\n",
        "  reversed_dict[v] = k"
      ],
      "execution_count": 0,
      "outputs": []
    },
    {
      "metadata": {
        "id": "xA6TSlzotvR5",
        "colab_type": "code",
        "colab": {
          "base_uri": "https://localhost:8080/",
          "height": 554
        },
        "outputId": "d6b2d1db-18df-420a-8799-1d06ad68e630"
      },
      "cell_type": "code",
      "source": [
        "reversed_dict"
      ],
      "execution_count": 14,
      "outputs": [
        {
          "output_type": "execute_result",
          "data": {
            "text/plain": [
              "{'accident': 12,\n",
              " 'animal on the shoulder': 22,\n",
              " 'animal struck': 23,\n",
              " 'flooding': 29,\n",
              " 'fog': 11,\n",
              " 'hail': 31,\n",
              " 'hazard on road': 26,\n",
              " 'hazard on the shoulder': 25,\n",
              " 'heavy traffic': 17,\n",
              " 'huge traffic jam': 32,\n",
              " 'ice on roadway': 27,\n",
              " 'large traffic jam': 24,\n",
              " 'major event': 7,\n",
              " 'malfunctioning traffic light': 20,\n",
              " 'medium traffic jam': 19,\n",
              " 'minor accident': 18,\n",
              " 'missing sign on the shoulder': 21,\n",
              " 'object on roadway': 6,\n",
              " 'other': 5,\n",
              " 'pothole': 8,\n",
              " 'road closed': 4,\n",
              " 'road closed due to construction': 1,\n",
              " 'road closed due to hazard': 30,\n",
              " 'road construction': 10,\n",
              " 'slowdown': 13,\n",
              " 'small traffic jam': 15,\n",
              " 'stopped car': 14,\n",
              " 'stopped car on the shoulder': 3,\n",
              " 'stopped traffic': 16,\n",
              " 'traffic heavier than normal': 9,\n",
              " 'traffic jam': 2,\n",
              " 'weather hazard': 28}"
            ]
          },
          "metadata": {
            "tags": []
          },
          "execution_count": 14
        }
      ]
    },
    {
      "metadata": {
        "id": "dP3luWPCt-Px",
        "colab_type": "code",
        "colab": {}
      },
      "cell_type": "code",
      "source": [
        "def map_event_list_to_idxs(event_list):\n",
        "  list_idxs = []\n",
        "  for event in (event_list):\n",
        "    idx = reversed_dict[event]\n",
        "    list_idxs.append(idx)\n",
        "  return list_idxs"
      ],
      "execution_count": 0,
      "outputs": []
    },
    {
      "metadata": {
        "id": "LnGKb7eNt_nz",
        "colab_type": "code",
        "colab": {}
      },
      "cell_type": "code",
      "source": [
        "map_event_list_to_idxs(max_len_event.events)"
      ],
      "execution_count": 0,
      "outputs": []
    },
    {
      "metadata": {
        "id": "F6NGUBS8uYzA",
        "colab_type": "code",
        "colab": {}
      },
      "cell_type": "code",
      "source": [
        ""
      ],
      "execution_count": 0,
      "outputs": []
    },
    {
      "metadata": {
        "id": "FNHHhfLmuF-5",
        "colab_type": "code",
        "colab": {
          "base_uri": "https://localhost:8080/",
          "height": 34
        },
        "outputId": "523fb799-2940-4c1c-d6a4-5de2e6378510"
      },
      "cell_type": "code",
      "source": [
        "import numpy as np\n",
        "from keras.utils import to_categorical\n",
        "from keras.preprocessing.sequence import pad_sequences"
      ],
      "execution_count": 17,
      "outputs": [
        {
          "output_type": "stream",
          "text": [
            "Using TensorFlow backend.\n"
          ],
          "name": "stderr"
        }
      ]
    },
    {
      "metadata": {
        "id": "J7DyTG3NuRds",
        "colab_type": "code",
        "colab": {
          "base_uri": "https://localhost:8080/",
          "height": 34
        },
        "outputId": "deaee75e-ce3f-4a76-eee2-43d23531c6f1"
      },
      "cell_type": "code",
      "source": [
        "len(event_dict)"
      ],
      "execution_count": 18,
      "outputs": [
        {
          "output_type": "execute_result",
          "data": {
            "text/plain": [
              "32"
            ]
          },
          "metadata": {
            "tags": []
          },
          "execution_count": 18
        }
      ]
    },
    {
      "metadata": {
        "id": "GGjyzC4juZhF",
        "colab_type": "code",
        "colab": {
          "base_uri": "https://localhost:8080/",
          "height": 1058
        },
        "outputId": "5408d8c7-e73e-4fca-84a6-ed7527948d3e"
      },
      "cell_type": "code",
      "source": [
        "df.events.apply(map_event_list_to_idxs)"
      ],
      "execution_count": 19,
      "outputs": [
        {
          "output_type": "execute_result",
          "data": {
            "text/plain": [
              "0      [9, 17, 18, 14, 13, 17, 3, 13, 16, 3, 17, 17, ...\n",
              "1                                             [2, 10, 3]\n",
              "2                                                    [2]\n",
              "3                                                    [2]\n",
              "4                               [2, 2, 2, 2, 2, 2, 2, 9]\n",
              "5                                             [3, 2, 17]\n",
              "6                                             [3, 2, 17]\n",
              "7                        [2, 15, 2, 17, 2, 2, 13, 17, 2]\n",
              "8                                  [17, 2, 2, 16, 17, 2]\n",
              "9                                  [17, 2, 2, 16, 17, 2]\n",
              "10     [17, 16, 17, 2, 17, 3, 17, 17, 16, 17, 16, 18,...\n",
              "11                                                  [17]\n",
              "12                                                  [17]\n",
              "13                                              [24, 24]\n",
              "14                                    [24, 2, 24, 24, 2]\n",
              "15                                    [24, 2, 24, 24, 2]\n",
              "16     [2, 10, 2, 2, 2, 18, 16, 16, 7, 2, 16, 2, 2, 9...\n",
              "17     [2, 10, 2, 2, 2, 18, 16, 16, 7, 2, 16, 2, 2, 9...\n",
              "18                               [24, 24, 24, 16, 2, 16]\n",
              "19                               [24, 24, 24, 16, 2, 16]\n",
              "20                                                [2, 2]\n",
              "21                                            [2, 16, 2]\n",
              "22                                            [2, 16, 2]\n",
              "23                                                [2, 2]\n",
              "24                                                [2, 2]\n",
              "25                                              [24, 24]\n",
              "26                                                [2, 2]\n",
              "27                                         [2, 2, 2, 17]\n",
              "28                                            [2, 19, 2]\n",
              "29                                                  [24]\n",
              "                             ...                        \n",
              "831                     [9, 9, 9, 2, 9, 9, 17, 2, 9, 17]\n",
              "832                                            [3, 3, 3]\n",
              "833                                 [2, 9, 2, 17, 17, 2]\n",
              "834       [3, 3, 17, 3, 13, 3, 3, 23, 9, 3, 3, 25, 3, 3]\n",
              "835      [3, 17, 9, 14, 9, 17, 14, 9, 2, 9, 3, 2, 2, 17]\n",
              "836                                                  [2]\n",
              "837         [17, 2, 16, 3, 9, 17, 17, 17, 13, 17, 9, 17]\n",
              "838    [13, 17, 17, 3, 3, 16, 17, 16, 17, 16, 3, 9, 1...\n",
              "839                                                  [2]\n",
              "840                                                  [3]\n",
              "841                                                  [2]\n",
              "842    [17, 17, 17, 3, 17, 23, 16, 17, 17, 3, 2, 13, ...\n",
              "843                                               [3, 3]\n",
              "844                                                  [2]\n",
              "845                     [2, 17, 2, 2, 2, 2, 2, 17, 2, 2]\n",
              "846                                   [7, 17, 3, 18, 17]\n",
              "847                                            [3, 3, 3]\n",
              "848    [2, 2, 2, 2, 2, 2, 2, 2, 2, 2, 2, 2, 2, 2, 2, ...\n",
              "849                                               [2, 2]\n",
              "850          [2, 2, 2, 2, 2, 2, 2, 2, 2, 2, 2, 13, 3, 2]\n",
              "851                                            [2, 2, 2]\n",
              "852                                          [16, 2, 16]\n",
              "853                [3, 16, 5, 3, 17, 3, 16, 9, 3, 2, 17]\n",
              "854                                                 [16]\n",
              "855    [3, 3, 3, 3, 3, 3, 3, 3, 2, 13, 3, 6, 3, 6, 3,...\n",
              "856                    [17, 17, 17, 2, 3, 2, 2, 2, 2, 2]\n",
              "857                                               [2, 2]\n",
              "858                                  [2, 2, 9, 17, 2, 2]\n",
              "859                            [17, 3, 2, 2, 2, 2, 2, 2]\n",
              "860    [17, 3, 3, 17, 3, 17, 2, 3, 18, 14, 3, 3, 16, ...\n",
              "Name: events, Length: 1722, dtype: object"
            ]
          },
          "metadata": {
            "tags": []
          },
          "execution_count": 19
        }
      ]
    },
    {
      "metadata": {
        "id": "KbtC5_G-uhT0",
        "colab_type": "code",
        "colab": {
          "base_uri": "https://localhost:8080/",
          "height": 672
        },
        "outputId": "8368a842-bb1f-42d3-8b61-bf301fe73e8c"
      },
      "cell_type": "code",
      "source": [
        "sequences = df.events.apply(map_event_list_to_idxs).tolist()\n",
        "sequences[:5]"
      ],
      "execution_count": 20,
      "outputs": [
        {
          "output_type": "execute_result",
          "data": {
            "text/plain": [
              "[[9,\n",
              "  17,\n",
              "  18,\n",
              "  14,\n",
              "  13,\n",
              "  17,\n",
              "  3,\n",
              "  13,\n",
              "  16,\n",
              "  3,\n",
              "  17,\n",
              "  17,\n",
              "  16,\n",
              "  3,\n",
              "  16,\n",
              "  17,\n",
              "  9,\n",
              "  17,\n",
              "  2,\n",
              "  17,\n",
              "  2,\n",
              "  7,\n",
              "  16,\n",
              "  17,\n",
              "  17,\n",
              "  17,\n",
              "  17,\n",
              "  13,\n",
              "  5,\n",
              "  17,\n",
              "  9,\n",
              "  9,\n",
              "  16,\n",
              "  16,\n",
              "  3],\n",
              " [2, 10, 3],\n",
              " [2],\n",
              " [2],\n",
              " [2, 2, 2, 2, 2, 2, 2, 9]]"
            ]
          },
          "metadata": {
            "tags": []
          },
          "execution_count": 20
        }
      ]
    },
    {
      "metadata": {
        "id": "oS7s61Atunf2",
        "colab_type": "code",
        "colab": {
          "base_uri": "https://localhost:8080/",
          "height": 134
        },
        "outputId": "07518a4e-97d9-493a-ed3b-024f4cdf1036"
      },
      "cell_type": "code",
      "source": [
        "data = pad_sequences(sequences, maxlen=maxlen)\n",
        "data"
      ],
      "execution_count": 21,
      "outputs": [
        {
          "output_type": "execute_result",
          "data": {
            "text/plain": [
              "array([[ 0,  0,  0, ..., 16, 16,  3],\n",
              "       [ 0,  0,  0, ...,  2, 10,  3],\n",
              "       [ 0,  0,  0, ...,  0,  0,  2],\n",
              "       ...,\n",
              "       [ 0,  0,  0, ..., 17,  2,  2],\n",
              "       [ 0,  0,  0, ...,  2,  2,  2],\n",
              "       [ 0,  0,  0, ...,  3,  3,  2]], dtype=int32)"
            ]
          },
          "metadata": {
            "tags": []
          },
          "execution_count": 21
        }
      ]
    },
    {
      "metadata": {
        "id": "AMHtZ2xRuxEd",
        "colab_type": "code",
        "colab": {}
      },
      "cell_type": "code",
      "source": [
        "labels = np.array(df.label)"
      ],
      "execution_count": 0,
      "outputs": []
    },
    {
      "metadata": {
        "id": "6lI1Eg4Tu1UT",
        "colab_type": "code",
        "colab": {}
      },
      "cell_type": "code",
      "source": [
        "np.random.seed(12)"
      ],
      "execution_count": 0,
      "outputs": []
    },
    {
      "metadata": {
        "id": "TxT8T0CIu7ip",
        "colab_type": "code",
        "colab": {}
      },
      "cell_type": "code",
      "source": [
        "indices = np.arange(data.shape[0])\n",
        "np.random.shuffle(indices)\n",
        "data = data[indices]\n",
        "labels = labels[indices]"
      ],
      "execution_count": 0,
      "outputs": []
    },
    {
      "metadata": {
        "id": "oR_MAGUZvDpe",
        "colab_type": "code",
        "colab": {}
      },
      "cell_type": "code",
      "source": [
        "training_samples = int(len(indices) * .8)\n",
        "validation_samples = len(indices) - training_samples"
      ],
      "execution_count": 0,
      "outputs": []
    },
    {
      "metadata": {
        "id": "E2l8MfeivLJN",
        "colab_type": "code",
        "colab": {}
      },
      "cell_type": "code",
      "source": [
        "X_train = data[:training_samples]\n",
        "y_train = labels[:training_samples]\n",
        "X_valid = data[training_samples: training_samples + validation_samples]\n",
        "y_valid = labels[training_samples: training_samples + validation_samples]"
      ],
      "execution_count": 0,
      "outputs": []
    },
    {
      "metadata": {
        "id": "PT_X5xF0vXGF",
        "colab_type": "code",
        "colab": {
          "base_uri": "https://localhost:8080/",
          "height": 134
        },
        "outputId": "753c1d61-838c-4741-aeea-5a0425c591d4"
      },
      "cell_type": "code",
      "source": [
        "X_train"
      ],
      "execution_count": 27,
      "outputs": [
        {
          "output_type": "execute_result",
          "data": {
            "text/plain": [
              "array([[ 0,  0,  0, ..., 15, 15,  3],\n",
              "       [ 0,  0,  0, ...,  0,  2,  2],\n",
              "       [ 0,  0,  0, ...,  0,  0, 16],\n",
              "       ...,\n",
              "       [ 0,  0,  0, ...,  2, 15, 16],\n",
              "       [ 0,  0,  0, ...,  2,  2,  2],\n",
              "       [ 0,  0,  0, ...,  0,  0,  2]], dtype=int32)"
            ]
          },
          "metadata": {
            "tags": []
          },
          "execution_count": 27
        }
      ]
    },
    {
      "metadata": {
        "id": "dYk6ozMjvXJJ",
        "colab_type": "code",
        "colab": {}
      },
      "cell_type": "code",
      "source": [
        "num_events = len(event_dict) + 1"
      ],
      "execution_count": 0,
      "outputs": []
    },
    {
      "metadata": {
        "id": "dio0YtZDvXOD",
        "colab_type": "code",
        "colab": {}
      },
      "cell_type": "code",
      "source": [
        "embedding_dim = 20\n",
        "embedding_matrix = np.random.rand(num_events, embedding_dim)"
      ],
      "execution_count": 0,
      "outputs": []
    },
    {
      "metadata": {
        "id": "n5DdN7XJvXRO",
        "colab_type": "code",
        "colab": {
          "base_uri": "https://localhost:8080/",
          "height": 87
        },
        "outputId": "9869194c-1da5-4b60-cb21-f8edcb00a9ce"
      },
      "cell_type": "code",
      "source": [
        "from keras.models import Sequential\n",
        "from keras.layers import Embedding, Flatten, Dense, LSTM\n",
        "\n",
        "units = 32\n",
        "\n",
        "model = Sequential()\n",
        "model.add(Embedding(num_events, embedding_dim))\n",
        "model.add(LSTM(units))\n",
        "model.add(Dense(1, activation='sigmoid'))"
      ],
      "execution_count": 30,
      "outputs": [
        {
          "output_type": "stream",
          "text": [
            "WARNING:tensorflow:From /usr/local/lib/python3.6/dist-packages/tensorflow/python/framework/op_def_library.py:263: colocate_with (from tensorflow.python.framework.ops) is deprecated and will be removed in a future version.\n",
            "Instructions for updating:\n",
            "Colocations handled automatically by placer.\n"
          ],
          "name": "stdout"
        }
      ]
    },
    {
      "metadata": {
        "id": "fFd7IN3gvXU-",
        "colab_type": "code",
        "colab": {}
      },
      "cell_type": "code",
      "source": [
        "model.layers[0].set_weights([embedding_matrix])\n",
        "model.layers[0].trainable = False"
      ],
      "execution_count": 0,
      "outputs": []
    },
    {
      "metadata": {
        "id": "yQJrw_4UvXZd",
        "colab_type": "code",
        "colab": {
          "base_uri": "https://localhost:8080/",
          "height": 1784
        },
        "outputId": "f69e7591-d419-421f-8383-3c1502941c16"
      },
      "cell_type": "code",
      "source": [
        "model.compile(optimizer='rmsprop',\n",
        "              loss='binary_crossentropy',\n",
        "              metrics=['acc'])\n",
        "history = model.fit(X_train, y_train,\n",
        "                    epochs=50,\n",
        "                    batch_size=32,\n",
        "                    validation_data=(X_valid, y_valid))\n",
        "model.save(\"mymodel_embedding_untrainable.h5\")"
      ],
      "execution_count": 32,
      "outputs": [
        {
          "output_type": "stream",
          "text": [
            "WARNING:tensorflow:From /usr/local/lib/python3.6/dist-packages/tensorflow/python/ops/math_ops.py:3066: to_int32 (from tensorflow.python.ops.math_ops) is deprecated and will be removed in a future version.\n",
            "Instructions for updating:\n",
            "Use tf.cast instead.\n",
            "Train on 1377 samples, validate on 345 samples\n",
            "Epoch 1/50\n",
            "1377/1377 [==============================] - 3s 2ms/step - loss: 0.6811 - acc: 0.5614 - val_loss: 0.6795 - val_acc: 0.5826\n",
            "Epoch 2/50\n",
            "1377/1377 [==============================] - 2s 1ms/step - loss: 0.6527 - acc: 0.6100 - val_loss: 0.6563 - val_acc: 0.6261\n",
            "Epoch 3/50\n",
            "1377/1377 [==============================] - 2s 1ms/step - loss: 0.6276 - acc: 0.6652 - val_loss: 0.6893 - val_acc: 0.5478\n",
            "Epoch 4/50\n",
            "1377/1377 [==============================] - 2s 1ms/step - loss: 0.6110 - acc: 0.6790 - val_loss: 0.6952 - val_acc: 0.5855\n",
            "Epoch 5/50\n",
            "1377/1377 [==============================] - 2s 1ms/step - loss: 0.5948 - acc: 0.6855 - val_loss: 0.6045 - val_acc: 0.6986\n",
            "Epoch 6/50\n",
            "1377/1377 [==============================] - 2s 1ms/step - loss: 0.5949 - acc: 0.6870 - val_loss: 0.6401 - val_acc: 0.6261\n",
            "Epoch 7/50\n",
            "1377/1377 [==============================] - 2s 1ms/step - loss: 0.5763 - acc: 0.7030 - val_loss: 0.6436 - val_acc: 0.6522\n",
            "Epoch 8/50\n",
            "1377/1377 [==============================] - 2s 1ms/step - loss: 0.5718 - acc: 0.7175 - val_loss: 0.6184 - val_acc: 0.6725\n",
            "Epoch 9/50\n",
            "1377/1377 [==============================] - 2s 1ms/step - loss: 0.5679 - acc: 0.7175 - val_loss: 0.6432 - val_acc: 0.6348\n",
            "Epoch 10/50\n",
            "1377/1377 [==============================] - 2s 1ms/step - loss: 0.5592 - acc: 0.7298 - val_loss: 0.5684 - val_acc: 0.7043\n",
            "Epoch 11/50\n",
            "1377/1377 [==============================] - 2s 1ms/step - loss: 0.5533 - acc: 0.7190 - val_loss: 0.5696 - val_acc: 0.6899\n",
            "Epoch 12/50\n",
            "1377/1377 [==============================] - 2s 1ms/step - loss: 0.5491 - acc: 0.7320 - val_loss: 0.6427 - val_acc: 0.6435\n",
            "Epoch 13/50\n",
            "1377/1377 [==============================] - 2s 1ms/step - loss: 0.5593 - acc: 0.7197 - val_loss: 0.6515 - val_acc: 0.6116\n",
            "Epoch 14/50\n",
            "1377/1377 [==============================] - 2s 1ms/step - loss: 0.5474 - acc: 0.7306 - val_loss: 0.6080 - val_acc: 0.6609\n",
            "Epoch 15/50\n",
            "1377/1377 [==============================] - 2s 1ms/step - loss: 0.5410 - acc: 0.7233 - val_loss: 0.5574 - val_acc: 0.7275\n",
            "Epoch 16/50\n",
            "1377/1377 [==============================] - 2s 1ms/step - loss: 0.5381 - acc: 0.7298 - val_loss: 0.6201 - val_acc: 0.6609\n",
            "Epoch 17/50\n",
            "1377/1377 [==============================] - 2s 1ms/step - loss: 0.5368 - acc: 0.7233 - val_loss: 0.5823 - val_acc: 0.6667\n",
            "Epoch 18/50\n",
            "1377/1377 [==============================] - 2s 1ms/step - loss: 0.5296 - acc: 0.7371 - val_loss: 0.6009 - val_acc: 0.6725\n",
            "Epoch 19/50\n",
            "1377/1377 [==============================] - 2s 1ms/step - loss: 0.5358 - acc: 0.7386 - val_loss: 0.5783 - val_acc: 0.7188\n",
            "Epoch 20/50\n",
            "1377/1377 [==============================] - 2s 1ms/step - loss: 0.5285 - acc: 0.7371 - val_loss: 0.5896 - val_acc: 0.6870\n",
            "Epoch 21/50\n",
            "1377/1377 [==============================] - 2s 1ms/step - loss: 0.5260 - acc: 0.7335 - val_loss: 0.5380 - val_acc: 0.6696\n",
            "Epoch 22/50\n",
            "1377/1377 [==============================] - 2s 1ms/step - loss: 0.5199 - acc: 0.7473 - val_loss: 0.5727 - val_acc: 0.7043\n",
            "Epoch 23/50\n",
            "1377/1377 [==============================] - 2s 1ms/step - loss: 0.5173 - acc: 0.7495 - val_loss: 0.5975 - val_acc: 0.6986\n",
            "Epoch 24/50\n",
            "1377/1377 [==============================] - 2s 1ms/step - loss: 0.5141 - acc: 0.7487 - val_loss: 0.9969 - val_acc: 0.6029\n",
            "Epoch 25/50\n",
            "1377/1377 [==============================] - 2s 1ms/step - loss: 0.5220 - acc: 0.7451 - val_loss: 0.6838 - val_acc: 0.6000\n",
            "Epoch 26/50\n",
            "1377/1377 [==============================] - 2s 1ms/step - loss: 0.5161 - acc: 0.7487 - val_loss: 0.5382 - val_acc: 0.7391\n",
            "Epoch 27/50\n",
            "1377/1377 [==============================] - 2s 1ms/step - loss: 0.5084 - acc: 0.7603 - val_loss: 0.5572 - val_acc: 0.6957\n",
            "Epoch 28/50\n",
            "1377/1377 [==============================] - 2s 1ms/step - loss: 0.5099 - acc: 0.7487 - val_loss: 0.6269 - val_acc: 0.6522\n",
            "Epoch 29/50\n",
            "1377/1377 [==============================] - 2s 1ms/step - loss: 0.5073 - acc: 0.7502 - val_loss: 0.5653 - val_acc: 0.6986\n",
            "Epoch 30/50\n",
            "1377/1377 [==============================] - 2s 1ms/step - loss: 0.5080 - acc: 0.7531 - val_loss: 0.5312 - val_acc: 0.7565\n",
            "Epoch 31/50\n",
            "1377/1377 [==============================] - 2s 1ms/step - loss: 0.5018 - acc: 0.7676 - val_loss: 0.5535 - val_acc: 0.7188\n",
            "Epoch 32/50\n",
            "1377/1377 [==============================] - 2s 1ms/step - loss: 0.5058 - acc: 0.7647 - val_loss: 0.5576 - val_acc: 0.7014\n",
            "Epoch 33/50\n",
            "1377/1377 [==============================] - 2s 1ms/step - loss: 0.5022 - acc: 0.7560 - val_loss: 0.5270 - val_acc: 0.7304\n",
            "Epoch 34/50\n",
            "1377/1377 [==============================] - 2s 2ms/step - loss: 0.4986 - acc: 0.7574 - val_loss: 0.5521 - val_acc: 0.7333\n",
            "Epoch 35/50\n",
            "1377/1377 [==============================] - 2s 1ms/step - loss: 0.4989 - acc: 0.7553 - val_loss: 0.5318 - val_acc: 0.7594\n",
            "Epoch 36/50\n",
            "1377/1377 [==============================] - 2s 1ms/step - loss: 0.4980 - acc: 0.7633 - val_loss: 0.5622 - val_acc: 0.7362\n",
            "Epoch 37/50\n",
            "1377/1377 [==============================] - 2s 1ms/step - loss: 0.4950 - acc: 0.7582 - val_loss: 0.5437 - val_acc: 0.7043\n",
            "Epoch 38/50\n",
            "1377/1377 [==============================] - 2s 1ms/step - loss: 0.4907 - acc: 0.7654 - val_loss: 0.5299 - val_acc: 0.7275\n",
            "Epoch 39/50\n",
            "1377/1377 [==============================] - 2s 1ms/step - loss: 0.4941 - acc: 0.7712 - val_loss: 0.5499 - val_acc: 0.7420\n",
            "Epoch 40/50\n",
            "1377/1377 [==============================] - 2s 1ms/step - loss: 0.4891 - acc: 0.7676 - val_loss: 0.5405 - val_acc: 0.7101\n",
            "Epoch 41/50\n",
            "1377/1377 [==============================] - 2s 1ms/step - loss: 0.4943 - acc: 0.7720 - val_loss: 0.5331 - val_acc: 0.7304\n",
            "Epoch 42/50\n",
            "1377/1377 [==============================] - 2s 1ms/step - loss: 0.5150 - acc: 0.7502 - val_loss: 0.6077 - val_acc: 0.6928\n",
            "Epoch 43/50\n",
            "1377/1377 [==============================] - 2s 1ms/step - loss: 0.5037 - acc: 0.7545 - val_loss: 0.5424 - val_acc: 0.7594\n",
            "Epoch 44/50\n",
            "1377/1377 [==============================] - 2s 1ms/step - loss: 0.4899 - acc: 0.7756 - val_loss: 0.5175 - val_acc: 0.7449\n",
            "Epoch 45/50\n",
            "1377/1377 [==============================] - 2s 1ms/step - loss: 0.4835 - acc: 0.7792 - val_loss: 0.5471 - val_acc: 0.7101\n",
            "Epoch 46/50\n",
            "1377/1377 [==============================] - 2s 1ms/step - loss: 0.4877 - acc: 0.7734 - val_loss: 0.5637 - val_acc: 0.7333\n",
            "Epoch 47/50\n",
            "1377/1377 [==============================] - 2s 1ms/step - loss: 0.4854 - acc: 0.7720 - val_loss: 0.5663 - val_acc: 0.7275\n",
            "Epoch 48/50\n",
            "1377/1377 [==============================] - 2s 1ms/step - loss: 0.4801 - acc: 0.7771 - val_loss: 0.6368 - val_acc: 0.6783\n",
            "Epoch 49/50\n",
            "1377/1377 [==============================] - 2s 1ms/step - loss: 0.4827 - acc: 0.7720 - val_loss: 0.5833 - val_acc: 0.6986\n",
            "Epoch 50/50\n",
            "1377/1377 [==============================] - 2s 1ms/step - loss: 0.4852 - acc: 0.7734 - val_loss: 0.5377 - val_acc: 0.7507\n"
          ],
          "name": "stdout"
        }
      ]
    },
    {
      "metadata": {
        "id": "BgO6CDypvXMJ",
        "colab_type": "code",
        "colab": {
          "base_uri": "https://localhost:8080/",
          "height": 706
        },
        "outputId": "6d298aec-b44e-4f57-d282-d3ed6b343cdc"
      },
      "cell_type": "code",
      "source": [
        "import matplotlib.pyplot as plt\n",
        "\n",
        "acc = history.history['acc']\n",
        "val_acc = history.history['val_acc']\n",
        "loss = history.history['loss']\n",
        "val_loss = history.history['val_loss']\n",
        "\n",
        "epochs = range(1, len(acc) + 1)\n",
        "\n",
        "plt.plot(epochs, acc, 'bo', label='Training acc')\n",
        "plt.plot(epochs, val_acc, 'b', label='Validation acc')\n",
        "plt.title('Training and validation accuracy')\n",
        "plt.legend()\n",
        "\n",
        "plt.figure()\n",
        "\n",
        "plt.plot(epochs, loss, 'bo', label='Training loss')\n",
        "plt.plot(epochs, val_loss, 'b', label='Validation loss')\n",
        "plt.title('Training and validation loss')\n",
        "plt.legend()\n",
        "\n",
        "plt.show()"
      ],
      "execution_count": 33,
      "outputs": [
        {
          "output_type": "display_data",
          "data": {
            "image/png": "[encoded data removed]",
            "text/plain": [
              "<Figure size 576x396 with 1 Axes>"
            ]
          },
          "metadata": {
            "tags": []
          }
        },
        {
          "output_type": "display_data",
          "data": {
            "image/png": "[encoded data removed]",
            "text/plain": [
              "<Figure size 576x396 with 1 Axes>"
            ]
          },
          "metadata": {
            "tags": []
          }
        }
      ]
    },
    {
      "metadata": {
        "id": "QqmcyMTDxoqz",
        "colab_type": "code",
        "colab": {}
      },
      "cell_type": "code",
      "source": [
        "from keras.models import Sequential\n",
        "from keras.layers import Embedding, Flatten, Dense, LSTM\n",
        "\n",
        "units = 32\n",
        "\n",
        "model = Sequential()\n",
        "model.add(Embedding(num_events, embedding_dim))\n",
        "model.add(LSTM(units))\n",
        "model.add(Dense(1, activation='sigmoid'))"
      ],
      "execution_count": 0,
      "outputs": []
    },
    {
      "metadata": {
        "id": "GLNzbBSzxxuF",
        "colab_type": "code",
        "colab": {
          "base_uri": "https://localhost:8080/",
          "height": 1714
        },
        "outputId": "7432c4fb-4442-4017-8da6-ecd1ea8e739b"
      },
      "cell_type": "code",
      "source": [
        "model.layers[0].set_weights([embedding_matrix])\n",
        "model.layers[0].trainable = True\n",
        "model.compile(optimizer='rmsprop',\n",
        "              loss='binary_crossentropy',\n",
        "              metrics=['acc'])\n",
        "history = model.fit(X_train, y_train,\n",
        "                    epochs=50,\n",
        "                    batch_size=32,\n",
        "                    validation_data=(X_valid, y_valid))\n",
        "model.save(\"mymodel_embedding_trainable.h5\")"
      ],
      "execution_count": 35,
      "outputs": [
        {
          "output_type": "stream",
          "text": [
            "Train on 1377 samples, validate on 345 samples\n",
            "Epoch 1/50\n",
            "1377/1377 [==============================] - 3s 2ms/step - loss: 0.6809 - acc: 0.5839 - val_loss: 0.6630 - val_acc: 0.6261\n",
            "Epoch 2/50\n",
            "1377/1377 [==============================] - 2s 2ms/step - loss: 0.6393 - acc: 0.6543 - val_loss: 0.6647 - val_acc: 0.5739\n",
            "Epoch 3/50\n",
            "1377/1377 [==============================] - 2s 2ms/step - loss: 0.6037 - acc: 0.6899 - val_loss: 0.8371 - val_acc: 0.5246\n",
            "Epoch 4/50\n",
            "1377/1377 [==============================] - 2s 2ms/step - loss: 0.5818 - acc: 0.7182 - val_loss: 0.5823 - val_acc: 0.6957\n",
            "Epoch 5/50\n",
            "1377/1377 [==============================] - 2s 2ms/step - loss: 0.5658 - acc: 0.7255 - val_loss: 0.5529 - val_acc: 0.7217\n",
            "Epoch 6/50\n",
            "1377/1377 [==============================] - 2s 2ms/step - loss: 0.5809 - acc: 0.7044 - val_loss: 0.5515 - val_acc: 0.7362\n",
            "Epoch 7/50\n",
            "1377/1377 [==============================] - 2s 2ms/step - loss: 0.5458 - acc: 0.7364 - val_loss: 0.8388 - val_acc: 0.5246\n",
            "Epoch 8/50\n",
            "1377/1377 [==============================] - 2s 2ms/step - loss: 0.5482 - acc: 0.7211 - val_loss: 0.5599 - val_acc: 0.7217\n",
            "Epoch 9/50\n",
            "1377/1377 [==============================] - 2s 2ms/step - loss: 0.5382 - acc: 0.7313 - val_loss: 0.5655 - val_acc: 0.7159\n",
            "Epoch 10/50\n",
            "1377/1377 [==============================] - 2s 2ms/step - loss: 0.5340 - acc: 0.7328 - val_loss: 0.5156 - val_acc: 0.7362\n",
            "Epoch 11/50\n",
            "1377/1377 [==============================] - 2s 2ms/step - loss: 0.5227 - acc: 0.7400 - val_loss: 0.5102 - val_acc: 0.7304\n",
            "Epoch 12/50\n",
            "1377/1377 [==============================] - 2s 2ms/step - loss: 0.5180 - acc: 0.7357 - val_loss: 0.5361 - val_acc: 0.7217\n",
            "Epoch 13/50\n",
            "1377/1377 [==============================] - 2s 2ms/step - loss: 0.5344 - acc: 0.7226 - val_loss: 0.5664 - val_acc: 0.7014\n",
            "Epoch 14/50\n",
            "1377/1377 [==============================] - 2s 2ms/step - loss: 0.5172 - acc: 0.7480 - val_loss: 0.5519 - val_acc: 0.6406\n",
            "Epoch 15/50\n",
            "1377/1377 [==============================] - 2s 2ms/step - loss: 0.5087 - acc: 0.7466 - val_loss: 0.5511 - val_acc: 0.7159\n",
            "Epoch 16/50\n",
            "1377/1377 [==============================] - 2s 2ms/step - loss: 0.5186 - acc: 0.7429 - val_loss: 0.5152 - val_acc: 0.7304\n",
            "Epoch 17/50\n",
            "1377/1377 [==============================] - 2s 2ms/step - loss: 0.5089 - acc: 0.7458 - val_loss: 0.5528 - val_acc: 0.7246\n",
            "Epoch 18/50\n",
            "1377/1377 [==============================] - 2s 2ms/step - loss: 0.5067 - acc: 0.7495 - val_loss: 0.5273 - val_acc: 0.7275\n",
            "Epoch 19/50\n",
            "1377/1377 [==============================] - 2s 2ms/step - loss: 0.4977 - acc: 0.7538 - val_loss: 0.5160 - val_acc: 0.7159\n",
            "Epoch 20/50\n",
            "1377/1377 [==============================] - 2s 2ms/step - loss: 0.4977 - acc: 0.7560 - val_loss: 0.5238 - val_acc: 0.7507\n",
            "Epoch 21/50\n",
            "1377/1377 [==============================] - 2s 2ms/step - loss: 0.4959 - acc: 0.7676 - val_loss: 0.5014 - val_acc: 0.7623\n",
            "Epoch 22/50\n",
            "1377/1377 [==============================] - 2s 2ms/step - loss: 0.4972 - acc: 0.7567 - val_loss: 0.4948 - val_acc: 0.7681\n",
            "Epoch 23/50\n",
            "1377/1377 [==============================] - 2s 2ms/step - loss: 0.4873 - acc: 0.7712 - val_loss: 0.4970 - val_acc: 0.7565\n",
            "Epoch 24/50\n",
            "1377/1377 [==============================] - 2s 2ms/step - loss: 0.4821 - acc: 0.7712 - val_loss: 0.5108 - val_acc: 0.7420\n",
            "Epoch 25/50\n",
            "1377/1377 [==============================] - 2s 2ms/step - loss: 0.4829 - acc: 0.7625 - val_loss: 0.4924 - val_acc: 0.7855\n",
            "Epoch 26/50\n",
            "1377/1377 [==============================] - 2s 2ms/step - loss: 0.4775 - acc: 0.7654 - val_loss: 0.5084 - val_acc: 0.7478\n",
            "Epoch 27/50\n",
            "1377/1377 [==============================] - 2s 2ms/step - loss: 0.4798 - acc: 0.7691 - val_loss: 0.5227 - val_acc: 0.7188\n",
            "Epoch 28/50\n",
            "1377/1377 [==============================] - 2s 2ms/step - loss: 0.4751 - acc: 0.7749 - val_loss: 0.5068 - val_acc: 0.7681\n",
            "Epoch 29/50\n",
            "1377/1377 [==============================] - 2s 2ms/step - loss: 0.4768 - acc: 0.7778 - val_loss: 0.5039 - val_acc: 0.7623\n",
            "Epoch 30/50\n",
            "1377/1377 [==============================] - 2s 1ms/step - loss: 0.4735 - acc: 0.7836 - val_loss: 0.5029 - val_acc: 0.7652\n",
            "Epoch 31/50\n",
            "1377/1377 [==============================] - 2s 1ms/step - loss: 0.4686 - acc: 0.7865 - val_loss: 0.4974 - val_acc: 0.7855\n",
            "Epoch 32/50\n",
            "1377/1377 [==============================] - 2s 1ms/step - loss: 0.4731 - acc: 0.7778 - val_loss: 0.5182 - val_acc: 0.7507\n",
            "Epoch 33/50\n",
            "1377/1377 [==============================] - 2s 1ms/step - loss: 0.4698 - acc: 0.7829 - val_loss: 0.4960 - val_acc: 0.7797\n",
            "Epoch 34/50\n",
            "1377/1377 [==============================] - 2s 1ms/step - loss: 0.4715 - acc: 0.7763 - val_loss: 0.5131 - val_acc: 0.7652\n",
            "Epoch 35/50\n",
            "1377/1377 [==============================] - 2s 1ms/step - loss: 0.4627 - acc: 0.7894 - val_loss: 0.4960 - val_acc: 0.7797\n",
            "Epoch 36/50\n",
            "1377/1377 [==============================] - 2s 2ms/step - loss: 0.4645 - acc: 0.7778 - val_loss: 0.4956 - val_acc: 0.7797\n",
            "Epoch 37/50\n",
            "1377/1377 [==============================] - 2s 1ms/step - loss: 0.4610 - acc: 0.7800 - val_loss: 0.5056 - val_acc: 0.7652\n",
            "Epoch 38/50\n",
            "1377/1377 [==============================] - 2s 1ms/step - loss: 0.4587 - acc: 0.7930 - val_loss: 0.5130 - val_acc: 0.7565\n",
            "Epoch 39/50\n",
            "1377/1377 [==============================] - 2s 1ms/step - loss: 0.4551 - acc: 0.7887 - val_loss: 0.5490 - val_acc: 0.7391\n",
            "Epoch 40/50\n",
            "1377/1377 [==============================] - 2s 1ms/step - loss: 0.4564 - acc: 0.7901 - val_loss: 0.5212 - val_acc: 0.7594\n",
            "Epoch 41/50\n",
            "1377/1377 [==============================] - 2s 1ms/step - loss: 0.4529 - acc: 0.7894 - val_loss: 0.5354 - val_acc: 0.7333\n",
            "Epoch 42/50\n",
            "1377/1377 [==============================] - 2s 1ms/step - loss: 0.4555 - acc: 0.7938 - val_loss: 0.5023 - val_acc: 0.7768\n",
            "Epoch 43/50\n",
            "1377/1377 [==============================] - 2s 1ms/step - loss: 0.4485 - acc: 0.7916 - val_loss: 0.5450 - val_acc: 0.7536\n",
            "Epoch 44/50\n",
            "1377/1377 [==============================] - 2s 1ms/step - loss: 0.4497 - acc: 0.7967 - val_loss: 0.4998 - val_acc: 0.7826\n",
            "Epoch 45/50\n",
            "1377/1377 [==============================] - 2s 1ms/step - loss: 0.4486 - acc: 0.7959 - val_loss: 0.5048 - val_acc: 0.7565\n",
            "Epoch 46/50\n",
            "1377/1377 [==============================] - 2s 1ms/step - loss: 0.4442 - acc: 0.7923 - val_loss: 0.5158 - val_acc: 0.7391\n",
            "Epoch 47/50\n",
            "1377/1377 [==============================] - 2s 1ms/step - loss: 0.4497 - acc: 0.7952 - val_loss: 0.5103 - val_acc: 0.7652\n",
            "Epoch 48/50\n",
            "1377/1377 [==============================] - 2s 2ms/step - loss: 0.4363 - acc: 0.8046 - val_loss: 0.5276 - val_acc: 0.7507\n",
            "Epoch 49/50\n",
            "1377/1377 [==============================] - 2s 2ms/step - loss: 0.4380 - acc: 0.8061 - val_loss: 0.5212 - val_acc: 0.7710\n",
            "Epoch 50/50\n",
            "1377/1377 [==============================] - 2s 2ms/step - loss: 0.4370 - acc: 0.8039 - val_loss: 0.5983 - val_acc: 0.7275\n"
          ],
          "name": "stdout"
        }
      ]
    },
    {
      "metadata": {
        "id": "X7nv-rcjx9Jt",
        "colab_type": "code",
        "colab": {
          "base_uri": "https://localhost:8080/",
          "height": 706
        },
        "outputId": "addef7c8-90be-4c08-9f92-d925fec7d1c1"
      },
      "cell_type": "code",
      "source": [
        "import matplotlib.pyplot as plt\n",
        "\n",
        "acc = history.history['acc']\n",
        "val_acc = history.history['val_acc']\n",
        "loss = history.history['loss']\n",
        "val_loss = history.history['val_loss']\n",
        "\n",
        "epochs = range(1, len(acc) + 1)\n",
        "\n",
        "plt.plot(epochs, acc, 'bo', label='Training acc')\n",
        "plt.plot(epochs, val_acc, 'b', label='Validation acc')\n",
        "plt.title('Training and validation accuracy')\n",
        "plt.legend()\n",
        "\n",
        "plt.figure()\n",
        "\n",
        "plt.plot(epochs, loss, 'bo', label='Training loss')\n",
        "plt.plot(epochs, val_loss, 'b', label='Validation loss')\n",
        "plt.title('Training and validation loss')\n",
        "plt.legend()\n",
        "\n",
        "plt.show()"
      ],
      "execution_count": 36,
      "outputs": [
        {
          "output_type": "display_data",
          "data": {
            "image/png": "[encoded data removed]",
            "text/plain": [
              "<Figure size 576x396 with 1 Axes>"
            ]
          },
          "metadata": {
            "tags": []
          }
        },
        {
          "output_type": "display_data",
          "data": {
            "image/png": "[encoded data removed]",
            "text/plain": [
              "<Figure size 576x396 with 1 Axes>"
            ]
          },
          "metadata": {
            "tags": []
          }
        }
      ]
    },
    {
      "metadata": {
        "id": "E370q2y3yHFY",
        "colab_type": "code",
        "colab": {
          "base_uri": "https://localhost:8080/",
          "height": 1784
        },
        "outputId": "992abf32-088c-4a7b-b646-7370118446ba"
      },
      "cell_type": "code",
      "source": [
        "from keras.models import Sequential\n",
        "from keras.layers import Embedding, Flatten, Dense, LSTM\n",
        "\n",
        "units = 32\n",
        "\n",
        "model = Sequential()\n",
        "model.add(Embedding(num_events, embedding_dim))\n",
        "model.add(LSTM(units, dropout=0.2, recurrent_dropout=0.2))\n",
        "model.add(Dense(1, activation='sigmoid'))\n",
        "\n",
        "model.layers[0].set_weights([embedding_matrix])\n",
        "model.layers[0].trainable = True\n",
        "\n",
        "model.compile(optimizer='rmsprop',\n",
        "              loss='binary_crossentropy',\n",
        "              metrics=['acc'])\n",
        "history = model.fit(X_train, y_train,\n",
        "                    epochs=50,\n",
        "                    batch_size=32,\n",
        "                    validation_data=(X_valid, y_valid))\n",
        "model.save(\"mymodel_embedding_trainable_with_dropout.h5\")"
      ],
      "execution_count": 37,
      "outputs": [
        {
          "output_type": "stream",
          "text": [
            "WARNING:tensorflow:From /usr/local/lib/python3.6/dist-packages/keras/backend/tensorflow_backend.py:3445: calling dropout (from tensorflow.python.ops.nn_ops) with keep_prob is deprecated and will be removed in a future version.\n",
            "Instructions for updating:\n",
            "Please use `rate` instead of `keep_prob`. Rate should be set to `rate = 1 - keep_prob`.\n",
            "Train on 1377 samples, validate on 345 samples\n",
            "Epoch 1/50\n",
            "1377/1377 [==============================] - 4s 3ms/step - loss: 0.6757 - acc: 0.5839 - val_loss: 0.6603 - val_acc: 0.5652\n",
            "Epoch 2/50\n",
            "1377/1377 [==============================] - 3s 2ms/step - loss: 0.6461 - acc: 0.6289 - val_loss: 0.6386 - val_acc: 0.6841\n",
            "Epoch 3/50\n",
            "1377/1377 [==============================] - 3s 2ms/step - loss: 0.6401 - acc: 0.6391 - val_loss: 0.6358 - val_acc: 0.6319\n",
            "Epoch 4/50\n",
            "1377/1377 [==============================] - 3s 2ms/step - loss: 0.6231 - acc: 0.6521 - val_loss: 0.6510 - val_acc: 0.6029\n",
            "Epoch 5/50\n",
            "1377/1377 [==============================] - 3s 2ms/step - loss: 0.6067 - acc: 0.6776 - val_loss: 0.6205 - val_acc: 0.6348\n",
            "Epoch 6/50\n",
            "1377/1377 [==============================] - 3s 2ms/step - loss: 0.5986 - acc: 0.6812 - val_loss: 0.5975 - val_acc: 0.6609\n",
            "Epoch 7/50\n",
            "1377/1377 [==============================] - 3s 2ms/step - loss: 0.5877 - acc: 0.6979 - val_loss: 0.5952 - val_acc: 0.6609\n",
            "Epoch 8/50\n",
            "1377/1377 [==============================] - 3s 2ms/step - loss: 0.5834 - acc: 0.6972 - val_loss: 0.5732 - val_acc: 0.7101\n",
            "Epoch 9/50\n",
            "1377/1377 [==============================] - 3s 2ms/step - loss: 0.5795 - acc: 0.6863 - val_loss: 0.5762 - val_acc: 0.6812\n",
            "Epoch 10/50\n",
            "1377/1377 [==============================] - 3s 2ms/step - loss: 0.5641 - acc: 0.7066 - val_loss: 0.5654 - val_acc: 0.6841\n",
            "Epoch 11/50\n",
            "1377/1377 [==============================] - 3s 2ms/step - loss: 0.5578 - acc: 0.7255 - val_loss: 0.5560 - val_acc: 0.7362\n",
            "Epoch 12/50\n",
            "1377/1377 [==============================] - 3s 2ms/step - loss: 0.5574 - acc: 0.7131 - val_loss: 0.5780 - val_acc: 0.6899\n",
            "Epoch 13/50\n",
            "1377/1377 [==============================] - 3s 2ms/step - loss: 0.5446 - acc: 0.7204 - val_loss: 0.5616 - val_acc: 0.7188\n",
            "Epoch 14/50\n",
            "1377/1377 [==============================] - 3s 2ms/step - loss: 0.5407 - acc: 0.7182 - val_loss: 0.5407 - val_acc: 0.7072\n",
            "Epoch 15/50\n",
            "1377/1377 [==============================] - 3s 2ms/step - loss: 0.5442 - acc: 0.7182 - val_loss: 0.5399 - val_acc: 0.7043\n",
            "Epoch 16/50\n",
            "1377/1377 [==============================] - 3s 2ms/step - loss: 0.5332 - acc: 0.7284 - val_loss: 0.5357 - val_acc: 0.7159\n",
            "Epoch 17/50\n",
            "1377/1377 [==============================] - 3s 2ms/step - loss: 0.5293 - acc: 0.7313 - val_loss: 0.5454 - val_acc: 0.7072\n",
            "Epoch 18/50\n",
            "1377/1377 [==============================] - 3s 2ms/step - loss: 0.5400 - acc: 0.7197 - val_loss: 0.5212 - val_acc: 0.7304\n",
            "Epoch 19/50\n",
            "1377/1377 [==============================] - 3s 2ms/step - loss: 0.5325 - acc: 0.7298 - val_loss: 0.5340 - val_acc: 0.7188\n",
            "Epoch 20/50\n",
            "1377/1377 [==============================] - 3s 2ms/step - loss: 0.5217 - acc: 0.7407 - val_loss: 0.5199 - val_acc: 0.7333\n",
            "Epoch 21/50\n",
            "1377/1377 [==============================] - 3s 2ms/step - loss: 0.5293 - acc: 0.7458 - val_loss: 0.5301 - val_acc: 0.7246\n",
            "Epoch 22/50\n",
            "1377/1377 [==============================] - 3s 2ms/step - loss: 0.5218 - acc: 0.7313 - val_loss: 0.5196 - val_acc: 0.7304\n",
            "Epoch 23/50\n",
            "1377/1377 [==============================] - 3s 2ms/step - loss: 0.5212 - acc: 0.7342 - val_loss: 0.5123 - val_acc: 0.7420\n",
            "Epoch 24/50\n",
            "1377/1377 [==============================] - 3s 2ms/step - loss: 0.5185 - acc: 0.7429 - val_loss: 0.5074 - val_acc: 0.7507\n",
            "Epoch 25/50\n",
            "1377/1377 [==============================] - 3s 2ms/step - loss: 0.5149 - acc: 0.7466 - val_loss: 0.5177 - val_acc: 0.7333\n",
            "Epoch 26/50\n",
            "1377/1377 [==============================] - 3s 2ms/step - loss: 0.5242 - acc: 0.7378 - val_loss: 0.5097 - val_acc: 0.7420\n",
            "Epoch 27/50\n",
            "1377/1377 [==============================] - 3s 2ms/step - loss: 0.5171 - acc: 0.7371 - val_loss: 0.5086 - val_acc: 0.7623\n",
            "Epoch 28/50\n",
            "1377/1377 [==============================] - 3s 2ms/step - loss: 0.5095 - acc: 0.7502 - val_loss: 0.5125 - val_acc: 0.7594\n",
            "Epoch 29/50\n",
            "1377/1377 [==============================] - 3s 2ms/step - loss: 0.5070 - acc: 0.7538 - val_loss: 0.5120 - val_acc: 0.7478\n",
            "Epoch 30/50\n",
            "1377/1377 [==============================] - 3s 2ms/step - loss: 0.5080 - acc: 0.7473 - val_loss: 0.5002 - val_acc: 0.7507\n",
            "Epoch 31/50\n",
            "1377/1377 [==============================] - 3s 2ms/step - loss: 0.5041 - acc: 0.7509 - val_loss: 0.4992 - val_acc: 0.7565\n",
            "Epoch 32/50\n",
            "1377/1377 [==============================] - 3s 2ms/step - loss: 0.5020 - acc: 0.7560 - val_loss: 0.5027 - val_acc: 0.7594\n",
            "Epoch 33/50\n",
            "1377/1377 [==============================] - 3s 2ms/step - loss: 0.4990 - acc: 0.7567 - val_loss: 0.5050 - val_acc: 0.7565\n",
            "Epoch 34/50\n",
            "1377/1377 [==============================] - 3s 2ms/step - loss: 0.4897 - acc: 0.7603 - val_loss: 0.5062 - val_acc: 0.7478\n",
            "Epoch 35/50\n",
            "1377/1377 [==============================] - 3s 2ms/step - loss: 0.4993 - acc: 0.7633 - val_loss: 0.5058 - val_acc: 0.7536\n",
            "Epoch 36/50\n",
            "1377/1377 [==============================] - 3s 2ms/step - loss: 0.5024 - acc: 0.7669 - val_loss: 0.4995 - val_acc: 0.7681\n",
            "Epoch 37/50\n",
            "1377/1377 [==============================] - 3s 2ms/step - loss: 0.4988 - acc: 0.7545 - val_loss: 0.5096 - val_acc: 0.7275\n",
            "Epoch 38/50\n",
            "1377/1377 [==============================] - 3s 2ms/step - loss: 0.4979 - acc: 0.7618 - val_loss: 0.5015 - val_acc: 0.7652\n",
            "Epoch 39/50\n",
            "1377/1377 [==============================] - 3s 2ms/step - loss: 0.5023 - acc: 0.7567 - val_loss: 0.5028 - val_acc: 0.7710\n",
            "Epoch 40/50\n",
            "1377/1377 [==============================] - 3s 2ms/step - loss: 0.5005 - acc: 0.7466 - val_loss: 0.4981 - val_acc: 0.7681\n",
            "Epoch 41/50\n",
            "1377/1377 [==============================] - 3s 2ms/step - loss: 0.5000 - acc: 0.7582 - val_loss: 0.5022 - val_acc: 0.7623\n",
            "Epoch 42/50\n",
            "1377/1377 [==============================] - 3s 2ms/step - loss: 0.4891 - acc: 0.7698 - val_loss: 0.5015 - val_acc: 0.7681\n",
            "Epoch 43/50\n",
            "1377/1377 [==============================] - 3s 2ms/step - loss: 0.4905 - acc: 0.7640 - val_loss: 0.5125 - val_acc: 0.7449\n",
            "Epoch 44/50\n",
            "1377/1377 [==============================] - 3s 2ms/step - loss: 0.4837 - acc: 0.7683 - val_loss: 0.4921 - val_acc: 0.7681\n",
            "Epoch 45/50\n",
            "1377/1377 [==============================] - 3s 2ms/step - loss: 0.4941 - acc: 0.7676 - val_loss: 0.4978 - val_acc: 0.7594\n",
            "Epoch 46/50\n",
            "1377/1377 [==============================] - 3s 2ms/step - loss: 0.4881 - acc: 0.7633 - val_loss: 0.5040 - val_acc: 0.7565\n",
            "Epoch 47/50\n",
            "1377/1377 [==============================] - 3s 2ms/step - loss: 0.4916 - acc: 0.7640 - val_loss: 0.5050 - val_acc: 0.7536\n",
            "Epoch 48/50\n",
            "1377/1377 [==============================] - 3s 2ms/step - loss: 0.4906 - acc: 0.7611 - val_loss: 0.4989 - val_acc: 0.7826\n",
            "Epoch 49/50\n",
            "1377/1377 [==============================] - 3s 2ms/step - loss: 0.4850 - acc: 0.7756 - val_loss: 0.5001 - val_acc: 0.7594\n",
            "Epoch 50/50\n",
            "1377/1377 [==============================] - 3s 2ms/step - loss: 0.4878 - acc: 0.7611 - val_loss: 0.4989 - val_acc: 0.7681\n"
          ],
          "name": "stdout"
        }
      ]
    },
    {
      "metadata": {
        "id": "6gk89yxzyR0j",
        "colab_type": "code",
        "colab": {
          "base_uri": "https://localhost:8080/",
          "height": 706
        },
        "outputId": "c003eb0e-d54a-4db2-dbd0-7ed1437b6129"
      },
      "cell_type": "code",
      "source": [
        "import matplotlib.pyplot as plt\n",
        "\n",
        "acc = history.history['acc']\n",
        "val_acc = history.history['val_acc']\n",
        "loss = history.history['loss']\n",
        "val_loss = history.history['val_loss']\n",
        "\n",
        "epochs = range(1, len(acc) + 1)\n",
        "\n",
        "plt.plot(epochs, acc, 'bo', label='Training acc')\n",
        "plt.plot(epochs, val_acc, 'b', label='Validation acc')\n",
        "plt.title('Training and validation accuracy')\n",
        "plt.legend()\n",
        "\n",
        "plt.figure()\n",
        "\n",
        "plt.plot(epochs, loss, 'bo', label='Training loss')\n",
        "plt.plot(epochs, val_loss, 'b', label='Validation loss')\n",
        "plt.title('Training and validation loss')\n",
        "plt.legend()\n",
        "\n",
        "plt.show()"
      ],
      "execution_count": 38,
      "outputs": [
        {
          "output_type": "display_data",
          "data": {
            "image/png": "[encoded data removed]",
            "text/plain": [
              "<Figure size 576x396 with 1 Axes>"
            ]
          },
          "metadata": {
            "tags": []
          }
        },
        {
          "output_type": "display_data",
          "data": {
            "image/png": "[encoded data removed]",
            "text/plain": [
              "<Figure size 576x396 with 1 Axes>"
            ]
          },
          "metadata": {
            "tags": []
          }
        }
      ]
    }
  ]
}