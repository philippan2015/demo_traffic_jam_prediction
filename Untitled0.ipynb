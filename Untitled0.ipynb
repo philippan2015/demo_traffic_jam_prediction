{
  "nbformat": 4,
  "nbformat_minor": 0,
  "metadata": {
    "colab": {
      "name": "Untitled0.ipynb",
      "version": "0.3.2",
      "provenance": [],
      "include_colab_link": true
    },
    "kernelspec": {
      "name": "python3",
      "display_name": "Python 3"
    },
    "accelerator": "TPU"
  },
  "cells": [
    {
      "cell_type": "markdown",
      "metadata": {
        "id": "view-in-github",
        "colab_type": "text"
      },
      "source": [
        "<a href=\"https://colab.research.google.com/github/philippan2015/demo_traffic_jam_prediction/blob/master/Untitled0.ipynb\" target=\"_parent\"><img src=\"https://colab.research.google.com/assets/colab-badge.svg\" alt=\"Open In Colab\"/></a>"
      ]
    },
    {
      "metadata": {
        "id": "2aTRIGnlNM0B",
        "colab_type": "code",
        "colab": {}
      },
      "cell_type": "code",
      "source": [
        "import pandas as pd"
      ],
      "execution_count": 0,
      "outputs": []
    },
    {
      "metadata": {
        "id": "aMqFdWGpN9d2",
        "colab_type": "code",
        "colab": {}
      },
      "cell_type": "code",
      "source": [
        "import pickle"
      ],
      "execution_count": 0,
      "outputs": []
    },
    {
      "metadata": {
        "id": "xWQvdU_YN_Ag",
        "colab_type": "code",
        "colab": {
          "base_uri": "https://localhost:8080/",
          "height": 118
        },
        "outputId": "aeec0600-6998-4559-e4f7-a33b2ff2df35"
      },
      "cell_type": "code",
      "source": [
        "!git clone https://github.com/wshuyi/demo_traffic_jam_prediction.git"
      ],
      "execution_count": 3,
      "outputs": [
        {
          "output_type": "stream",
          "text": [
            "Cloning into 'demo_traffic_jam_prediction'...\n",
            "remote: Enumerating objects: 9, done.\u001b[K\n",
            "remote: Counting objects: 100% (9/9), done.\u001b[K\n",
            "remote: Compressing objects: 100% (7/7), done.\u001b[K\n",
            "remote: Total 9 (delta 1), reused 5 (delta 0), pack-reused 0\u001b[K\n",
            "Unpacking objects: 100% (9/9), done.\n"
          ],
          "name": "stdout"
        }
      ]
    },
    {
      "metadata": {
        "id": "-8SuZg4mOPXT",
        "colab_type": "code",
        "colab": {}
      },
      "cell_type": "code",
      "source": [
        "from pathlib import Path\n",
        "data_dir = Path('demo_traffic_jam_prediction')"
      ],
      "execution_count": 0,
      "outputs": []
    },
    {
      "metadata": {
        "id": "_TYSbE-vhUjD",
        "colab_type": "code",
        "colab": {}
      },
      "cell_type": "code",
      "source": [
        "with open(data_dir / 'data.pickle', 'rb') as f:\n",
        "    [event_dict, df] = pickle.load(f)"
      ],
      "execution_count": 0,
      "outputs": []
    },
    {
      "metadata": {
        "id": "cZM02_iEimp4",
        "colab_type": "code",
        "colab": {
          "base_uri": "https://localhost:8080/",
          "height": 554
        },
        "outputId": "5173778e-f3cc-470a-ff7c-4272429b2bd1"
      },
      "cell_type": "code",
      "source": [
        "event_dict"
      ],
      "execution_count": 8,
      "outputs": [
        {
          "output_type": "execute_result",
          "data": {
            "text/plain": [
              "{1: 'road closed due to construction',\n",
              " 2: 'traffic jam',\n",
              " 3: 'stopped car on the shoulder',\n",
              " 4: 'road closed',\n",
              " 5: 'other',\n",
              " 6: 'object on roadway',\n",
              " 7: 'major event',\n",
              " 8: 'pothole',\n",
              " 9: 'traffic heavier than normal',\n",
              " 10: 'road construction',\n",
              " 11: 'fog',\n",
              " 12: 'accident',\n",
              " 13: 'slowdown',\n",
              " 14: 'stopped car',\n",
              " 15: 'small traffic jam',\n",
              " 16: 'stopped traffic',\n",
              " 17: 'heavy traffic',\n",
              " 18: 'minor accident',\n",
              " 19: 'medium traffic jam',\n",
              " 20: 'malfunctioning traffic light',\n",
              " 21: 'missing sign on the shoulder',\n",
              " 22: 'animal on the shoulder',\n",
              " 23: 'animal struck',\n",
              " 24: 'large traffic jam',\n",
              " 25: 'hazard on the shoulder',\n",
              " 26: 'hazard on road',\n",
              " 27: 'ice on roadway',\n",
              " 28: 'weather hazard',\n",
              " 29: 'flooding',\n",
              " 30: 'road closed due to hazard',\n",
              " 31: 'hail',\n",
              " 32: 'huge traffic jam'}"
            ]
          },
          "metadata": {
            "tags": []
          },
          "execution_count": 8
        }
      ]
    },
    {
      "metadata": {
        "id": "a4U2R1Tliy5c",
        "colab_type": "code",
        "colab": {
          "base_uri": "https://localhost:8080/",
          "height": 343
        },
        "outputId": "760694fe-6afe-40cb-83d4-f73c7b7cc41f"
      },
      "cell_type": "code",
      "source": [
        "df.head(10)"
      ],
      "execution_count": 9,
      "outputs": [
        {
          "output_type": "execute_result",
          "data": {
            "text/html": [
              "<div>\n",
              "<style scoped>\n",
              "    .dataframe tbody tr th:only-of-type {\n",
              "        vertical-align: middle;\n",
              "    }\n",
              "\n",
              "    .dataframe tbody tr th {\n",
              "        vertical-align: top;\n",
              "    }\n",
              "\n",
              "    .dataframe thead th {\n",
              "        text-align: right;\n",
              "    }\n",
              "</style>\n",
              "<table border=\"1\" class=\"dataframe\">\n",
              "  <thead>\n",
              "    <tr style=\"text-align: right;\">\n",
              "      <th></th>\n",
              "      <th>label</th>\n",
              "      <th>events</th>\n",
              "    </tr>\n",
              "  </thead>\n",
              "  <tbody>\n",
              "    <tr>\n",
              "      <th>0</th>\n",
              "      <td>1</td>\n",
              "      <td>[traffic heavier than normal, heavy traffic, m...</td>\n",
              "    </tr>\n",
              "    <tr>\n",
              "      <th>1</th>\n",
              "      <td>1</td>\n",
              "      <td>[traffic jam, road construction, stopped car o...</td>\n",
              "    </tr>\n",
              "    <tr>\n",
              "      <th>2</th>\n",
              "      <td>1</td>\n",
              "      <td>[traffic jam]</td>\n",
              "    </tr>\n",
              "    <tr>\n",
              "      <th>3</th>\n",
              "      <td>1</td>\n",
              "      <td>[traffic jam]</td>\n",
              "    </tr>\n",
              "    <tr>\n",
              "      <th>4</th>\n",
              "      <td>1</td>\n",
              "      <td>[traffic jam, traffic jam, traffic jam, traffi...</td>\n",
              "    </tr>\n",
              "    <tr>\n",
              "      <th>5</th>\n",
              "      <td>1</td>\n",
              "      <td>[stopped car on the shoulder, traffic jam, hea...</td>\n",
              "    </tr>\n",
              "    <tr>\n",
              "      <th>6</th>\n",
              "      <td>1</td>\n",
              "      <td>[stopped car on the shoulder, traffic jam, hea...</td>\n",
              "    </tr>\n",
              "    <tr>\n",
              "      <th>7</th>\n",
              "      <td>1</td>\n",
              "      <td>[traffic jam, small traffic jam, traffic jam, ...</td>\n",
              "    </tr>\n",
              "    <tr>\n",
              "      <th>8</th>\n",
              "      <td>1</td>\n",
              "      <td>[heavy traffic, traffic jam, traffic jam, stop...</td>\n",
              "    </tr>\n",
              "    <tr>\n",
              "      <th>9</th>\n",
              "      <td>1</td>\n",
              "      <td>[heavy traffic, traffic jam, traffic jam, stop...</td>\n",
              "    </tr>\n",
              "  </tbody>\n",
              "</table>\n",
              "</div>"
            ],
            "text/plain": [
              "   label                                             events\n",
              "0      1  [traffic heavier than normal, heavy traffic, m...\n",
              "1      1  [traffic jam, road construction, stopped car o...\n",
              "2      1                                      [traffic jam]\n",
              "3      1                                      [traffic jam]\n",
              "4      1  [traffic jam, traffic jam, traffic jam, traffi...\n",
              "5      1  [stopped car on the shoulder, traffic jam, hea...\n",
              "6      1  [stopped car on the shoulder, traffic jam, hea...\n",
              "7      1  [traffic jam, small traffic jam, traffic jam, ...\n",
              "8      1  [heavy traffic, traffic jam, traffic jam, stop...\n",
              "9      1  [heavy traffic, traffic jam, traffic jam, stop..."
            ]
          },
          "metadata": {
            "tags": []
          },
          "execution_count": 9
        }
      ]
    },
    {
      "metadata": {
        "id": "Yc7qSzFci49f",
        "colab_type": "code",
        "colab": {
          "base_uri": "https://localhost:8080/",
          "height": 343
        },
        "outputId": "875924e8-db46-48de-a4aa-35548d2d813c"
      },
      "cell_type": "code",
      "source": [
        "df.tail(10)"
      ],
      "execution_count": 10,
      "outputs": [
        {
          "output_type": "execute_result",
          "data": {
            "text/html": [
              "<div>\n",
              "<style scoped>\n",
              "    .dataframe tbody tr th:only-of-type {\n",
              "        vertical-align: middle;\n",
              "    }\n",
              "\n",
              "    .dataframe tbody tr th {\n",
              "        vertical-align: top;\n",
              "    }\n",
              "\n",
              "    .dataframe thead th {\n",
              "        text-align: right;\n",
              "    }\n",
              "</style>\n",
              "<table border=\"1\" class=\"dataframe\">\n",
              "  <thead>\n",
              "    <tr style=\"text-align: right;\">\n",
              "      <th></th>\n",
              "      <th>label</th>\n",
              "      <th>events</th>\n",
              "    </tr>\n",
              "  </thead>\n",
              "  <tbody>\n",
              "    <tr>\n",
              "      <th>851</th>\n",
              "      <td>0</td>\n",
              "      <td>[traffic jam, traffic jam, traffic jam]</td>\n",
              "    </tr>\n",
              "    <tr>\n",
              "      <th>852</th>\n",
              "      <td>0</td>\n",
              "      <td>[stopped traffic, traffic jam, stopped traffic]</td>\n",
              "    </tr>\n",
              "    <tr>\n",
              "      <th>853</th>\n",
              "      <td>0</td>\n",
              "      <td>[stopped car on the shoulder, stopped traffic,...</td>\n",
              "    </tr>\n",
              "    <tr>\n",
              "      <th>854</th>\n",
              "      <td>0</td>\n",
              "      <td>[stopped traffic]</td>\n",
              "    </tr>\n",
              "    <tr>\n",
              "      <th>855</th>\n",
              "      <td>0</td>\n",
              "      <td>[stopped car on the shoulder, stopped car on t...</td>\n",
              "    </tr>\n",
              "    <tr>\n",
              "      <th>856</th>\n",
              "      <td>0</td>\n",
              "      <td>[heavy traffic, heavy traffic, heavy traffic, ...</td>\n",
              "    </tr>\n",
              "    <tr>\n",
              "      <th>857</th>\n",
              "      <td>0</td>\n",
              "      <td>[traffic jam, traffic jam]</td>\n",
              "    </tr>\n",
              "    <tr>\n",
              "      <th>858</th>\n",
              "      <td>0</td>\n",
              "      <td>[traffic jam, traffic jam, traffic heavier tha...</td>\n",
              "    </tr>\n",
              "    <tr>\n",
              "      <th>859</th>\n",
              "      <td>0</td>\n",
              "      <td>[heavy traffic, stopped car on the shoulder, t...</td>\n",
              "    </tr>\n",
              "    <tr>\n",
              "      <th>860</th>\n",
              "      <td>0</td>\n",
              "      <td>[heavy traffic, stopped car on the shoulder, s...</td>\n",
              "    </tr>\n",
              "  </tbody>\n",
              "</table>\n",
              "</div>"
            ],
            "text/plain": [
              "     label                                             events\n",
              "851      0            [traffic jam, traffic jam, traffic jam]\n",
              "852      0    [stopped traffic, traffic jam, stopped traffic]\n",
              "853      0  [stopped car on the shoulder, stopped traffic,...\n",
              "854      0                                  [stopped traffic]\n",
              "855      0  [stopped car on the shoulder, stopped car on t...\n",
              "856      0  [heavy traffic, heavy traffic, heavy traffic, ...\n",
              "857      0                         [traffic jam, traffic jam]\n",
              "858      0  [traffic jam, traffic jam, traffic heavier tha...\n",
              "859      0  [heavy traffic, stopped car on the shoulder, t...\n",
              "860      0  [heavy traffic, stopped car on the shoulder, s..."
            ]
          },
          "metadata": {
            "tags": []
          },
          "execution_count": 10
        }
      ]
    }
  ]
}